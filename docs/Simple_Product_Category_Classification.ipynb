{
 "cells": [
  {
   "cell_type": "code",
   "execution_count": 1,
   "metadata": {
    "collapsed": true
   },
   "outputs": [],
   "source": [
    "# Import required libraries\n",
    "# requirements are\n",
    "# pandas>=0.19\n",
    "# scikit_learn>=0.18\n",
    "\n",
    "import pandas as pd\n",
    "\n",
    "from sklearn.model_selection import train_test_split\n",
    "from sklearn.naive_bayes import MultinomialNB\n",
    "from sklearn.feature_extraction.text import TfidfVectorizer\n",
    "from sklearn import metrics"
   ]
  },
  {
   "cell_type": "code",
   "execution_count": 2,
   "metadata": {
    "collapsed": false
   },
   "outputs": [],
   "source": [
    "# Read data\n",
    "df = pd.read_csv('Products.csv', \n",
    "                 usecols=['Product title', 'Category', 'description', 'description-short'])"
   ]
  },
  {
   "cell_type": "code",
   "execution_count": 3,
   "metadata": {
    "collapsed": false
   },
   "outputs": [
    {
     "data": {
      "text/plain": [
       "Home | Hobby & UnderhÃ¥llning | Radiostyrt | DrÃ¶nare                      15\n",
       "Home | Hobby & UnderhÃ¥llning | Hoverboards                                 6\n",
       "Home | Hemmet | Bygg | El & Elinstallation | Batterier                      5\n",
       "Home | Fritid & TrÃ¤ning | TrÃ¤ning & Tillskott | Aktivitetsarmband         3\n",
       "Home | Hemmet | Bygg | El & Elinstallation | Belysning | LED-Lampor E27     2\n",
       "Name: Category, dtype: int64"
      ]
     },
     "execution_count": 3,
     "metadata": {},
     "output_type": "execute_result"
    }
   ],
   "source": [
    "# Print out product' categories with theirs #occurences\n",
    "df.Category.value_counts()"
   ]
  },
  {
   "cell_type": "code",
   "execution_count": 4,
   "metadata": {
    "collapsed": false
   },
   "outputs": [],
   "source": [
    "# Add target column with numerical representation product' category\n",
    "mapped_values = {index: value for value, index in enumerate(df.Category.unique())}\n",
    "\n",
    "df['target'] = df.Category.map(mapped_values)"
   ]
  },
  {
   "cell_type": "code",
   "execution_count": 5,
   "metadata": {
    "collapsed": false
   },
   "outputs": [],
   "source": [
    "# Add data column with aggregated text from featured columns\n",
    "# Product title, description, and description-short\n",
    "df['data'] = df[['Product title', 'description', 'description-short']].apply(lambda x: ' '.join(x), axis=1)"
   ]
  },
  {
   "cell_type": "code",
   "execution_count": 6,
   "metadata": {
    "collapsed": false
   },
   "outputs": [
    {
     "name": "stdout",
     "output_type": "stream",
     "text": [
      "             precision    recall  f1-score   support\n",
      "\n",
      "          0       1.00      1.00      1.00         1\n",
      "          1       1.00      1.00      1.00         1\n",
      "          2       1.00      1.00      1.00         1\n",
      "          3       1.00      1.00      1.00         3\n",
      "          4       1.00      1.00      1.00         1\n",
      "\n",
      "avg / total       1.00      1.00      1.00         7\n",
      "\n",
      "[[1 0 0 0 0]\n",
      " [0 1 0 0 0]\n",
      " [0 0 1 0 0]\n",
      " [0 0 0 3 0]\n",
      " [0 0 0 0 1]]\n"
     ]
    }
   ],
   "source": [
    "# Split dataset into train and test sets (80/20)\n",
    "df_train, df_test = train_test_split(df, test_size = 0.2)\n",
    "\n",
    "# Create vector representation of text \"Bag of words\"\n",
    "vectorizer = TfidfVectorizer(sublinear_tf=True, \n",
    "                             max_df=0.5,\n",
    "                             stop_words='english')\n",
    "\n",
    "# Calculate TFIDF scores for tokens in product' data description\n",
    "# for both train and test sets\n",
    "X_train = vectorizer.fit_transform(df_train.data.as_matrix())\n",
    "X_test = vectorizer.transform(df_test.data.as_matrix())\n",
    "\n",
    "# Create train and test labels for classifier\n",
    "y_train, y_test = df_train.target, df_test.target\n",
    "\n",
    "# Create Multinomial Naive Bayes model (can be changed by anyoneelse model)\n",
    "clf = MultinomialNB(alpha=.01)\n",
    "\n",
    "# Train model\n",
    "clf.fit(X_train, y_train)\n",
    "\n",
    "# Get predicted values from pretrainded model\n",
    "pred = clf.predict(X_test)\n",
    "\n",
    "# Print out model' evaluation metrics (confusion matrix and precision/recall/f1-score)\n",
    "print(metrics.classification_report(y_test, pred))\n",
    "print(metrics.confusion_matrix(y_test, pred))"
   ]
  },
  {
   "cell_type": "code",
   "execution_count": 7,
   "metadata": {
    "collapsed": false
   },
   "outputs": [
    {
     "name": "stderr",
     "output_type": "stream",
     "text": [
      "/Users/alex/Envs/matching/lib/python3.5/site-packages/ipykernel/__main__.py:5: SettingWithCopyWarning: \n",
      "A value is trying to be set on a copy of a slice from a DataFrame.\n",
      "Try using .loc[row_indexer,col_indexer] = value instead\n",
      "\n",
      "See the caveats in the documentation: http://pandas.pydata.org/pandas-docs/stable/indexing.html#indexing-view-versus-copy\n"
     ]
    },
    {
     "data": {
      "text/html": [
       "<div>\n",
       "<table border=\"1\" class=\"dataframe\">\n",
       "  <thead>\n",
       "    <tr style=\"text-align: right;\">\n",
       "      <th></th>\n",
       "      <th>Product title</th>\n",
       "      <th>Category</th>\n",
       "      <th>description</th>\n",
       "      <th>description-short</th>\n",
       "      <th>target</th>\n",
       "      <th>data</th>\n",
       "      <th>predicted</th>\n",
       "    </tr>\n",
       "  </thead>\n",
       "  <tbody>\n",
       "    <tr>\n",
       "      <th>19</th>\n",
       "      <td>Parrot Bebop Drone 2 RÃ¶d/Svart</td>\n",
       "      <td>Home | Hobby &amp; UnderhÃ¥llning | Radiostyrt | D...</td>\n",
       "      <td>&lt;p&gt;Ett tillbehÃ¶r med perfekt passform och til...</td>\n",
       "      <td>Parrot Bebop Drone 2 RÃ¶d/Svart</td>\n",
       "      <td>3</td>\n",
       "      <td>Parrot Bebop Drone 2 RÃ¶d/Svart &lt;p&gt;Ett tillbeh...</td>\n",
       "      <td>3</td>\n",
       "    </tr>\n",
       "    <tr>\n",
       "      <th>6</th>\n",
       "      <td>Belkin Wemo Led Starterkit 2X E27 Bulbs + Wemo...</td>\n",
       "      <td>Home | Hemmet | Bygg | El &amp; Elinstallation | B...</td>\n",
       "      <td>&lt;font size=\"2\"&gt;â€‹&lt;/font&gt;Med WeMo-startpaketet...</td>\n",
       "      <td>BELKIN WEMO LED STARTERKIT 2x E27 BULBS + WEMO...</td>\n",
       "      <td>2</td>\n",
       "      <td>Belkin Wemo Led Starterkit 2X E27 Bulbs + Wemo...</td>\n",
       "      <td>2</td>\n",
       "    </tr>\n",
       "    <tr>\n",
       "      <th>9</th>\n",
       "      <td>Smartband 2 Swr12 Vit</td>\n",
       "      <td>Home | Fritid &amp; TrÃ¤ning | TrÃ¤ning &amp; Tillskot...</td>\n",
       "      <td>&lt;p&gt;&lt;b&gt;â€‹&lt;/b&gt;&lt;span&gt;&lt;b&gt;FÃ¶lj dina rÃ¶relser ida...</td>\n",
       "      <td>&lt;p&gt;SMARTBAND 2 SWR12 WHITE&lt;/p&gt;</td>\n",
       "      <td>0</td>\n",
       "      <td>Smartband 2 Swr12 Vit &lt;p&gt;&lt;b&gt;â€‹&lt;/b&gt;&lt;span&gt;&lt;b&gt;FÃ...</td>\n",
       "      <td>0</td>\n",
       "    </tr>\n",
       "    <tr>\n",
       "      <th>4</th>\n",
       "      <td>Ultra Power Mn 1400 K2  Lr14</td>\n",
       "      <td>Home | Hemmet | Bygg | El &amp; Elinstallation | B...</td>\n",
       "      <td>&lt;p&gt;BÃ¤st fÃ¶r apparater som drar mycket strÃ¶m...</td>\n",
       "      <td>&lt;p&gt;Ultra Power MN 1400 K2 LR14&lt;/p&gt;\\n&lt;div id=\"m...</td>\n",
       "      <td>1</td>\n",
       "      <td>Ultra Power Mn 1400 K2  Lr14 &lt;p&gt;BÃ¤st fÃ¶r app...</td>\n",
       "      <td>1</td>\n",
       "    </tr>\n",
       "    <tr>\n",
       "      <th>24</th>\n",
       "      <td>Denver Hoverboard 10\" Vit</td>\n",
       "      <td>Home | Hobby &amp; UnderhÃ¥llning | Hoverboards</td>\n",
       "      <td>&lt;p&gt;&lt;strong&gt;Motoriserad balans-brÃ¤da, Ã¤ven ka...</td>\n",
       "      <td>Denver HoverBoard 10\" Vit</td>\n",
       "      <td>4</td>\n",
       "      <td>Denver Hoverboard 10\" Vit &lt;p&gt;&lt;strong&gt;Motoriser...</td>\n",
       "      <td>4</td>\n",
       "    </tr>\n",
       "    <tr>\n",
       "      <th>21</th>\n",
       "      <td>Parrot Bebop 2 Skycontroller RÃ¶d/Sv</td>\n",
       "      <td>Home | Hobby &amp; UnderhÃ¥llning | Radiostyrt | D...</td>\n",
       "      <td>&lt;p&gt;Ett tillbehÃ¶r med perfekt passform och til...</td>\n",
       "      <td>Parrot Bebop 2 SkyController RÃ¶d/Sv</td>\n",
       "      <td>3</td>\n",
       "      <td>Parrot Bebop 2 Skycontroller RÃ¶d/Sv &lt;p&gt;Ett ti...</td>\n",
       "      <td>3</td>\n",
       "    </tr>\n",
       "    <tr>\n",
       "      <th>30</th>\n",
       "      <td>Denver DrÃ¶nare med Hd-Kamera</td>\n",
       "      <td>Home | Hobby &amp; UnderhÃ¥llning | Radiostyrt | D...</td>\n",
       "      <td>&lt;p&gt;2.4GHz drÃ¶nare med inbyggd HD-kamera och g...</td>\n",
       "      <td>Denver DrÃ¶nare med HD-kamera</td>\n",
       "      <td>3</td>\n",
       "      <td>Denver DrÃ¶nare med Hd-Kamera &lt;p&gt;2.4GHz drÃ¶na...</td>\n",
       "      <td>3</td>\n",
       "    </tr>\n",
       "  </tbody>\n",
       "</table>\n",
       "</div>"
      ],
      "text/plain": [
       "                                        Product title  \\\n",
       "19                    Parrot Bebop Drone 2 RÃ¶d/Svart   \n",
       "6   Belkin Wemo Led Starterkit 2X E27 Bulbs + Wemo...   \n",
       "9                               Smartband 2 Swr12 Vit   \n",
       "4                        Ultra Power Mn 1400 K2  Lr14   \n",
       "24                          Denver Hoverboard 10\" Vit   \n",
       "21               Parrot Bebop 2 Skycontroller RÃ¶d/Sv   \n",
       "30                      Denver DrÃ¶nare med Hd-Kamera   \n",
       "\n",
       "                                             Category  \\\n",
       "19  Home | Hobby & UnderhÃ¥llning | Radiostyrt | D...   \n",
       "6   Home | Hemmet | Bygg | El & Elinstallation | B...   \n",
       "9   Home | Fritid & TrÃ¤ning | TrÃ¤ning & Tillskot...   \n",
       "4   Home | Hemmet | Bygg | El & Elinstallation | B...   \n",
       "24        Home | Hobby & UnderhÃ¥llning | Hoverboards   \n",
       "21  Home | Hobby & UnderhÃ¥llning | Radiostyrt | D...   \n",
       "30  Home | Hobby & UnderhÃ¥llning | Radiostyrt | D...   \n",
       "\n",
       "                                          description  \\\n",
       "19  <p>Ett tillbehÃ¶r med perfekt passform och til...   \n",
       "6   <font size=\"2\">â€‹</font>Med WeMo-startpaketet...   \n",
       "9   <p><b>â€‹</b><span><b>FÃ¶lj dina rÃ¶relser ida...   \n",
       "4   <p>BÃ¤st fÃ¶r apparater som drar mycket strÃ¶m...   \n",
       "24  <p><strong>Motoriserad balans-brÃ¤da, Ã¤ven ka...   \n",
       "21  <p>Ett tillbehÃ¶r med perfekt passform och til...   \n",
       "30  <p>2.4GHz drÃ¶nare med inbyggd HD-kamera och g...   \n",
       "\n",
       "                                    description-short  target  \\\n",
       "19                    Parrot Bebop Drone 2 RÃ¶d/Svart       3   \n",
       "6   BELKIN WEMO LED STARTERKIT 2x E27 BULBS + WEMO...       2   \n",
       "9                      <p>SMARTBAND 2 SWR12 WHITE</p>       0   \n",
       "4   <p>Ultra Power MN 1400 K2 LR14</p>\\n<div id=\"m...       1   \n",
       "24                          Denver HoverBoard 10\" Vit       4   \n",
       "21               Parrot Bebop 2 SkyController RÃ¶d/Sv       3   \n",
       "30                      Denver DrÃ¶nare med HD-kamera       3   \n",
       "\n",
       "                                                 data  predicted  \n",
       "19  Parrot Bebop Drone 2 RÃ¶d/Svart <p>Ett tillbeh...          3  \n",
       "6   Belkin Wemo Led Starterkit 2X E27 Bulbs + Wemo...          2  \n",
       "9   Smartband 2 Swr12 Vit <p><b>â€‹</b><span><b>FÃ...          0  \n",
       "4   Ultra Power Mn 1400 K2  Lr14 <p>BÃ¤st fÃ¶r app...          1  \n",
       "24  Denver Hoverboard 10\" Vit <p><strong>Motoriser...          4  \n",
       "21  Parrot Bebop 2 Skycontroller RÃ¶d/Sv <p>Ett ti...          3  \n",
       "30  Denver DrÃ¶nare med Hd-Kamera <p>2.4GHz drÃ¶na...          3  "
      ]
     },
     "execution_count": 7,
     "metadata": {},
     "output_type": "execute_result"
    }
   ],
   "source": [
    "# Print out test product with predicted product' categories\n",
    "# Category - text representation of product' category\n",
    "# target - numerical representation of an actual product' category\n",
    "# predicted - numerical representation of an predicted product' category\n",
    "df_test['predicted'] = pred\n",
    "df_test.copy()"
   ]
  },
  {
   "cell_type": "code",
   "execution_count": null,
   "metadata": {
    "collapsed": true
   },
   "outputs": [],
   "source": [
    ""
   ]
  }
 ],
 "metadata": {
  "kernelspec": {
   "display_name": "Python 3",
   "language": "python",
   "name": "python3"
  },
  "language_info": {
   "codemirror_mode": {
    "name": "ipython",
    "version": 3.0
   },
   "file_extension": ".py",
   "mimetype": "text/x-python",
   "name": "python",
   "nbconvert_exporter": "python",
   "pygments_lexer": "ipython3",
   "version": "3.5.2"
  }
 },
 "nbformat": 4,
 "nbformat_minor": 0
}