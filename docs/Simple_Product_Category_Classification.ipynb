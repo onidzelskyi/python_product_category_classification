{
 "cells": [
  {
   "cell_type": "code",
   "execution_count": 1,
   "metadata": {
    "collapsed": true
   },
   "outputs": [],
   "source": [
    "# Import required libraries\n",
    "# requirements are\n",
    "# pandas>=0.19\n",
    "# scikit_learn>=0.18\n",
    "\n",
    "import pandas as pd\n",
    "\n",
    "from sklearn.model_selection import train_test_split\n",
    "from sklearn.naive_bayes import MultinomialNB\n",
    "from sklearn.feature_extraction.text import TfidfVectorizer\n",
    "from sklearn import metrics"
   ]
  },
  {
   "cell_type": "code",
   "execution_count": null,
   "metadata": {
    "collapsed": false
   },
   "outputs": [],
   "source": [
    "# Read data\n",
    "df = pd.read_csv('../resources/Products.csv', \n",
    "                 usecols=['Product title', 'Category', 'description', 'description-short'])"
   ]
  },
  {
   "cell_type": "code",
   "execution_count": null,
   "metadata": {
    "collapsed": false
   },
   "outputs": [],
   "source": [
    "# Print out product' categories with theirs #occurences\n",
    "df.Category.value_counts()"
   ]
  },
  {
   "cell_type": "code",
   "execution_count": null,
   "metadata": {
    "collapsed": false
   },
   "outputs": [],
   "source": [
    "# Add target column with numerical representation product' category\n",
    "mapped_values = {index: value for value, index in enumerate(df.Category.unique())}\n",
    "\n",
    "df['target'] = df.Category.map(mapped_values)"
   ]
  },
  {
   "cell_type": "code",
   "execution_count": null,
   "metadata": {
    "collapsed": false
   },
   "outputs": [],
   "source": [
    "# Add data column with aggregated text from featured columns\n",
    "# Product title, description, and description-short\n",
    "df['data'] = df[['Product title', 'description', 'description-short']].apply(lambda x: ' '.join(x), axis=1)"
   ]
  },
  {
   "cell_type": "code",
   "execution_count": null,
   "metadata": {
    "collapsed": false
   },
   "outputs": [],
   "source": [
    "# Split dataset into train and test sets (80/20)\n",
    "df_train, df_test = train_test_split(df, test_size = 0.2)\n",
    "\n",
    "# Create vector representation of text \"Bag of words\"\n",
    "vectorizer = TfidfVectorizer(sublinear_tf=True, \n",
    "                             max_df=0.5,\n",
    "                             stop_words='english')\n",
    "\n",
    "# Calculate TFIDF scores for tokens in product' data description\n",
    "# for both train and test sets\n",
    "X_train = vectorizer.fit_transform(df_train.data.as_matrix())\n",
    "X_test = vectorizer.transform(df_test.data.as_matrix())\n",
    "\n",
    "# Create train and test labels for classifier\n",
    "y_train, y_test = df_train.target, df_test.target\n",
    "\n",
    "# Create Multinomial Naive Bayes model (can be changed by anyoneelse model)\n",
    "clf = MultinomialNB(alpha=.01)\n",
    "\n",
    "# Train model\n",
    "clf.fit(X_train, y_train)\n",
    "\n",
    "# Get predicted values from pretrainded model\n",
    "pred = clf.predict(X_test)\n",
    "\n",
    "# Print out model' evaluation metrics (confusion matrix and precision/recall/f1-score)\n",
    "# print(metrics.classification_report(y_test, pred))\n",
    "# print(metrics.confusion_matrix(y_test, pred))\n",
    "\n",
    "metrics.accuracy_score(y_test, pred)"
   ]
  },
  {
   "cell_type": "code",
   "execution_count": null,
   "metadata": {
    "collapsed": false
   },
   "outputs": [],
   "source": [
    "# Print out test product with predicted product' categories\n",
    "# Category - text representation of product' category\n",
    "# target - numerical representation of an actual product' category\n",
    "# predicted - numerical representation of an predicted product' category\n",
    "df_test['predicted'] = pred\n",
    "df_test.copy()"
   ]
  },
  {
   "cell_type": "code",
   "execution_count": null,
   "metadata": {
    "collapsed": false
   },
   "outputs": [],
   "source": [
    "{x: {k:v for k,v in zip(clf.classes_.tolist(), a.tolist()[0])} for x in df_test.data}"
   ]
  },
  {
   "cell_type": "code",
   "execution_count": null,
   "metadata": {
    "collapsed": false
   },
   "outputs": [],
   "source": [
    "train_set = df_train[['target', 'data']]\n",
    "train_set.rename(columns={'target': 'label', 'data': 'text'}, inplace=True)\n",
    "train_set.to_csv('../resources/train_set.csv', index=False)\n",
    "\n",
    "df_test\n",
    "test_set = df_test[['data', 'target']]\n",
    "test_set.rename(columns={'target': 'label', 'data': 'text'}, inplace=True)\n",
    "test_set.to_csv('../resources/test_set.csv', index=False)"
   ]
  },
  {
   "cell_type": "code",
   "execution_count": null,
   "metadata": {
    "collapsed": false
   },
   "outputs": [],
   "source": [
    "print(metrics.classification_report(y_test, pred))"
   ]
  },
  {
   "cell_type": "code",
   "execution_count": 4,
   "metadata": {
    "collapsed": false
   },
   "outputs": [],
   "source": [
    "import xml.etree.ElementTree as ET\n",
    "\n",
    "\n",
    "xml_data = '/Users/alex/Downloads/googleshopping-s1-sv.xml'\n",
    "\n",
    "tree = ET.parse(xml_data)\n",
    "root = tree.getroot()\n",
    "\n",
    "items = list()\n",
    "columns = set()\n",
    "\n",
    "for i in root.getchildren()[0].findall('item'):\n",
    "    item = dict()\n",
    "    for j in i.getchildren():\n",
    "        columns.add(j.tag)\n",
    "        if j.tag in item:\n",
    "            item[j.tag] = '{}, {}'.format(item.get(j.tag), j.text)\n",
    "        else:\n",
    "            item[j.tag] = j.text\n",
    "            \n",
    "    items.append(item)\n",
    "        \n",
    "df = pd.DataFrame(items, columns=columns)\n",
    "df.to_csv('googleshopping.csv', index=False)"
   ]
  },
  {
   "cell_type": "code",
   "execution_count": 5,
   "metadata": {
    "collapsed": false
   },
   "outputs": [
    {
     "name": "stdout",
     "output_type": "stream",
     "text": [
      "<class 'pandas.core.frame.DataFrame'>\n",
      "RangeIndex: 73794 entries, 0 to 73793\n",
      "Data columns (total 17 columns):\n",
      "{http://base.google.com/ns/1.0}shipping                   73794 non-null object\n",
      "description                                               71910 non-null object\n",
      "{http://base.google.com/ns/1.0}google_product_category    73794 non-null object\n",
      "{http://base.google.com/ns/1.0}condition                  73794 non-null object\n",
      "{http://base.google.com/ns/1.0}shipping_weight            72055 non-null object\n",
      "{http://base.google.com/ns/1.0}identifier_exists          4 non-null object\n",
      "{http://base.google.com/ns/1.0}brand                      73794 non-null object\n",
      "title                                                     73794 non-null object\n",
      "{http://base.google.com/ns/1.0}gtin                       71806 non-null object\n",
      "{http://base.google.com/ns/1.0}mpn                        73785 non-null object\n",
      "link                                                      73794 non-null object\n",
      "{http://base.google.com/ns/1.0}featured_product           4 non-null object\n",
      "{http://base.google.com/ns/1.0}product_type               73794 non-null object\n",
      "{http://base.google.com/ns/1.0}id                         73794 non-null object\n",
      "{http://base.google.com/ns/1.0}availability               73794 non-null object\n",
      "{http://base.google.com/ns/1.0}price                      73794 non-null object\n",
      "{http://base.google.com/ns/1.0}image_link                 73330 non-null object\n",
      "dtypes: object(17)\n",
      "memory usage: 9.6+ MB\n"
     ]
    }
   ],
   "source": [
    "df.info()"
   ]
  },
  {
   "cell_type": "code",
   "execution_count": 11,
   "metadata": {
    "collapsed": false
   },
   "outputs": [
    {
     "name": "stdout",
     "output_type": "stream",
     "text": [
      "<class 'pandas.core.frame.DataFrame'>\n",
      "RangeIndex: 73794 entries, 0 to 73793\n",
      "Data columns (total 4 columns):\n",
      "title          73794 non-null object\n",
      "description    73794 non-null object\n",
      "category       73794 non-null object\n",
      "target         73794 non-null int64\n",
      "dtypes: int64(1), object(3)\n",
      "memory usage: 2.3+ MB\n"
     ]
    }
   ],
   "source": [
    "# df = df[['title', 'description', '{http://base.google.com/ns/1.0}product_type']].rename(columns={'{http://base.google.com/ns/1.0}product_type': 'category'}).fillna('')\n",
    "\n",
    "mapped_values = {index: value for value, index in enumerate(df.category.unique())}\n",
    "df['target'] = df.category.map(mapped_values)\n",
    "\n",
    "df.info()"
   ]
  },
  {
   "cell_type": "code",
   "execution_count": 13,
   "metadata": {
    "collapsed": false
   },
   "outputs": [
    {
     "data": {
      "text/plain": [
       "<matplotlib.axes._subplots.AxesSubplot at 0x111923780>"
      ]
     },
     "execution_count": 13,
     "metadata": {},
     "output_type": "execute_result"
    },
    {
     "data": {
      "image/png": "[encoded data removed]",
      "text/plain": [
       "<matplotlib.figure.Figure at 0x111759eb8>"
      ]
     },
     "metadata": {},
     "output_type": "display_data"
    }
   ],
   "source": [
    "%matplotlib inline\n",
    "\n",
    "df.target.hist()"
   ]
  },
  {
   "cell_type": "code",
   "execution_count": 18,
   "metadata": {
    "collapsed": false
   },
   "outputs": [
    {
     "ename": "TypeError",
     "evalue": "'int' object is not iterable",
     "output_type": "error",
     "traceback": [
      "\u001b[0;31m---------------------------------------------------------------------------\u001b[0m",
      "\u001b[0;31mTypeError\u001b[0m                                 Traceback (most recent call last)",
      "\u001b[0;32m<ipython-input-18-584e13a49354>\u001b[0m in \u001b[0;36m<module>\u001b[0;34m()\u001b[0m\n\u001b[0;32m----> 1\u001b[0;31m \u001b[0mdf\u001b[0m\u001b[0;34m.\u001b[0m\u001b[0mtarget\u001b[0m\u001b[0;34m.\u001b[0m\u001b[0mapply\u001b[0m\u001b[0;34m(\u001b[0m\u001b[0msum\u001b[0m\u001b[0;34m)\u001b[0m\u001b[0;34m\u001b[0m\u001b[0m\n\u001b[0m",
      "\u001b[0;32m/Users/alex/Envs/matching/lib/python3.5/site-packages/pandas/core/series.py\u001b[0m in \u001b[0;36mapply\u001b[0;34m(self, func, convert_dtype, args, **kwds)\u001b[0m\n\u001b[1;32m   2290\u001b[0m             \u001b[0;32melse\u001b[0m\u001b[0;34m:\u001b[0m\u001b[0;34m\u001b[0m\u001b[0m\n\u001b[1;32m   2291\u001b[0m                 \u001b[0mvalues\u001b[0m \u001b[0;34m=\u001b[0m \u001b[0mself\u001b[0m\u001b[0;34m.\u001b[0m\u001b[0masobject\u001b[0m\u001b[0;34m\u001b[0m\u001b[0m\n\u001b[0;32m-> 2292\u001b[0;31m                 \u001b[0mmapped\u001b[0m \u001b[0;34m=\u001b[0m \u001b[0mlib\u001b[0m\u001b[0;34m.\u001b[0m\u001b[0mmap_infer\u001b[0m\u001b[0;34m(\u001b[0m\u001b[0mvalues\u001b[0m\u001b[0;34m,\u001b[0m \u001b[0mf\u001b[0m\u001b[0;34m,\u001b[0m \u001b[0mconvert\u001b[0m\u001b[0;34m=\u001b[0m\u001b[0mconvert_dtype\u001b[0m\u001b[0;34m)\u001b[0m\u001b[0;34m\u001b[0m\u001b[0m\n\u001b[0m\u001b[1;32m   2293\u001b[0m \u001b[0;34m\u001b[0m\u001b[0m\n\u001b[1;32m   2294\u001b[0m         \u001b[0;32mif\u001b[0m \u001b[0mlen\u001b[0m\u001b[0;34m(\u001b[0m\u001b[0mmapped\u001b[0m\u001b[0;34m)\u001b[0m \u001b[0;32mand\u001b[0m \u001b[0misinstance\u001b[0m\u001b[0;34m(\u001b[0m\u001b[0mmapped\u001b[0m\u001b[0;34m[\u001b[0m\u001b[0;36m0\u001b[0m\u001b[0;34m]\u001b[0m\u001b[0;34m,\u001b[0m \u001b[0mSeries\u001b[0m\u001b[0;34m)\u001b[0m\u001b[0;34m:\u001b[0m\u001b[0;34m\u001b[0m\u001b[0m\n",
      "\u001b[0;32mpandas/src/inference.pyx\u001b[0m in \u001b[0;36mpandas.lib.map_infer (pandas/lib.c:66116)\u001b[0;34m()\u001b[0m\n",
      "\u001b[0;31mTypeError\u001b[0m: 'int' object is not iterable"
     ]
    }
   ],
   "source": [
    "df.target.apply(sum)"
   ]
  },
  {
   "cell_type": "code",
   "execution_count": null,
   "metadata": {
    "collapsed": false
   },
   "outputs": [],
   "source": [
    "# Add target column with numerical representation product' category\n"
   ]
  },
  {
   "cell_type": "code",
   "execution_count": null,
   "metadata": {
    "collapsed": false
   },
   "outputs": [],
   "source": [
    "# Add data column with aggregated text from featured columns\n",
    "# Product title, description, and description-short\n",
    "x['data'] = x[['title', 'description']].apply(lambda x: ' '.join(x), axis=1)"
   ]
  },
  {
   "cell_type": "code",
   "execution_count": null,
   "metadata": {
    "collapsed": false
   },
   "outputs": [],
   "source": [
    "# Split dataset into train and test sets (80/20)\n",
    "x_train, x_test = train_test_split(x, test_size = 0.2)\n",
    "\n",
    "# Create vector representation of text \"Bag of words\"\n",
    "vectorizer = TfidfVectorizer(sublinear_tf=True, \n",
    "                             max_df=0.5,\n",
    "                             stop_words='english')\n",
    "\n",
    "# Calculate TFIDF scores for tokens in product' data description\n",
    "# for both train and test sets\n",
    "X_train = vectorizer.fit_transform(x_train.data.as_matrix())\n",
    "X_test = vectorizer.transform(x_test.data.as_matrix())\n",
    "\n",
    "# Create train and test labels for classifier\n",
    "y_train, y_test = x_train.target, x_test.target\n",
    "\n",
    "# Create Multinomial Naive Bayes model (can be changed by anyoneelse model)\n",
    "clf = MultinomialNB(alpha=.01)\n",
    "\n",
    "# Train model\n",
    "clf.fit(X_train, y_train)\n",
    "\n",
    "# Get predicted values from pretrainded model\n",
    "pred = clf.predict(X_test)\n",
    "\n",
    "# Print out model' evaluation metrics (confusion matrix and precision/recall/f1-score)\n",
    "print(metrics.classification_report(y_test, pred))\n",
    "print(metrics.confusion_matrix(y_test, pred))"
   ]
  },
  {
   "cell_type": "code",
   "execution_count": null,
   "metadata": {
    "collapsed": true
   },
   "outputs": [],
   "source": [
    "x.category.value_counts()"
   ]
  },
  {
   "cell_type": "code",
   "execution_count": null,
   "metadata": {
    "collapsed": true
   },
   "outputs": [],
   "source": []
  }
 ],
 "metadata": {
  "kernelspec": {
   "display_name": "Python 3",
   "language": "python",
   "name": "python3"
  },
  "language_info": {
   "codemirror_mode": {
    "name": "ipython",
    "version": 3
   },
   "file_extension": ".py",
   "mimetype": "text/x-python",
   "name": "python",
   "nbconvert_exporter": "python",
   "pygments_lexer": "ipython3",
   "version": "3.5.2"
  }
 },
 "nbformat": 4,
 "nbformat_minor": 2
}
